{
 "cells": [
  {
   "attachments": {},
   "cell_type": "markdown",
   "id": "6d5b4f43",
   "metadata": {},
   "source": [
    "<center style=\"font-size: 30px\">\n",
    "\n",
    "# DAA Assignment\n",
    "\n",
    "</center>\n",
    "\n",
    "- [Team Members](#team-members)\n",
    "- [Introduction](#introduction)\n",
    "- [Problem Statement](#problem-statement)\n",
    "- [Algorithm](#algorithm)\n",
    "  - [Ford Fulkerson](#Ford-Fulkerson)\n",
    "  - [Segmented Least Squares](#Segmented-Least-Squares)\n",
    "- [Helper Functions](#helper-function)\n",
    "- [Analysis and Conclusions](#analysis-and-conclusions)\n",
    "\n",
    "<a name=\"team-members\"></a>\n",
    "\n",
    "## Team Members\n",
    "\n",
    "<style>\n",
    "td, th {\n",
    "   border: none!important;\n",
    "   font-size: 20px;\n",
    "}\n",
    "</style>\n",
    "\n",
    "| NAME                        | ID            |\n",
    "| --------------------------- | ------------- |\n",
    "| Milind Jain                 | 2020A7PS0153H |\n",
    "| Mokshith Naidu Thakkilapati | 2020A7PS1885H |\n",
    "| Anish Kumar Kallepalli      | 2020A7PS0282H |\n",
    "| Sriram Srivatsan            | 2020A7PS0273H |\n"
   ]
  },
  {
   "attachments": {},
   "cell_type": "markdown",
   "id": "e3ac76c4",
   "metadata": {},
   "source": [
    "<a name=\"introduction\"></a>\n",
    "\n",
    "## Introduction\n",
    "\n",
    "The maximum flow problem involves finding the maximum amount of flow that can be sent from a source node to a sink node in a directed graph, subject to capacity constraints on the edges. The Ford-Fulkerson algorithm is an algorithm for solving the maximum flow problem in a flow network.\n",
    "\n",
    "The minimum s-t cut problem is closely related to the maximum flow problem, in fact, it can be shown that the maximum flow is equal to the minimum capacity of all s-t cuts. This is known as the max-flow min-cut theorem.\n",
    "\n",
    "A bipartite graph is a graph whose vertices can be divided into two disjoint sets such that all edges connect a vertex in one set to a vertex in the other set. The Bipartite Matching problem is a graph optimization problem that involves finding the largest possible matching between two disjoint sets of vertices in a bipartite graph. There can be more than one maximum matchings for a given Bipartite Graph.\n",
    "\n",
    "Segmented Least Squares using dynamic programming is a computational technique that is used to solve the problem of finding the best piecewise linear approximation of a given set of data points.Segmented Least Squares using dynamic programming is useful in a wide range of applications, including data compression, signal processing, and time series analysis.Dynamic programming is used to efficiently find the optimal partition and the coefficients of the linear functions.\n"
   ]
  },
  {
   "attachments": {},
   "cell_type": "markdown",
   "id": "f4dd5bcb",
   "metadata": {},
   "source": [
    "<a name=\"problem-statement\"></a>\n",
    "\n",
    "## Problem Statements\n",
    "\n",
    "### Problem Statement 1\n",
    "\n",
    "We are supposed to implement the Ford-Fulkerson Algorithm that was explained in class. Then we should implement the subroutine to find the minimum st-cut of a network flow graph. We are also supposed to use the Ford-Fulkerson algorithm for solving Bipartite Matching problem. The Bipartite Matching problem can be stated as follows: Given a bipartite graph G = (U, V, E), where U and V are the disjoint sets of vertices and E is the set of edges connecting vertices in U to vertices in V, the goal is to find a maximum cardinality matching M, which is a subset of E such that no two edges in M share a common endpoint. We are also supposed to run the algorithm on different kinds of network flow graphs, such as smaller graphs to test the code and larger graphs to verify the robustness of implementations.\n",
    "\n",
    "### Problem Statement 2\n",
    "\n",
    "Assume a set P of n points in the plane, labelled (x1,y1), (x2,y2), (x3,y3),..., (xn,yn) and suppose x1 < x2 < …< xn. Divide P into a few parts. Segment is a subset of P that represents a contiguous set of x-coordinates. Compute the line minimizing the error with respect to the points in S. Along with the error, we want to penalise having too many partitions.Penalty is calculated as the sum of the segments into which P is divided times a constant multiplier C > 0 and for each segment, the error value of the optimal line through that segment. Our aim is to find a partition with the least amount of penalty.\n"
   ]
  },
  {
   "attachments": {},
   "cell_type": "markdown",
   "id": "b2e6eb2f",
   "metadata": {},
   "source": [
    "<a name=\"algorithm\"></a>\n",
    "\n",
    "## Algorithm\n",
    "\n",
    "<a name=\"Ford-Fulkerson\"></a>\n",
    "\n",
    "### Ford-Fulkerson\n",
    "\n",
    "The algorithm finds augmenting paths repeatedly in the residual graph, which is a graph that represents the capacity of the remaining flow after the initial flow has been subtracted, starting with an initial flow of zero. In the residual graph, an augmenting path is one that has positive capacity on all of its edges and connects the source and sink nodes. The algorithm increases the flow along an augmenting path by the minimum capacity of the edges along the path once it has been identified, effectively pushing more flow from the source node to the sink node. The flow is at its highest point when this process is repeated until no more augmenting paths can be discovered. There are several ways to find augmenting paths when using the Ford-Fulkerson algorithm, including breadth-first search and depth-first search. If the capacities are not integral, one important factor to take into account is that the algorithm might not always converge to the maximum flow. Hence we use a updated Ford-Fulkerson algorithm that uses the shortest augmenting path instead of any augmenting path. This ensures that the algorithm will terminate in a finite number of iterations, since the length of the shortest augmenting path can only decrease after each iteration.\n",
    "\n",
    "The algorithm has a worst-case time complexity of $O(m^2log C)$ , where m is the number of edges in the flow network and c is the maximum flow. However, in practice, the algorithm tends to perform much better than this worst-case bound.\n"
   ]
  },
  {
   "attachments": {},
   "cell_type": "markdown",
   "id": "f7882d50",
   "metadata": {},
   "source": [
    "<a name=\"Segmented-Least-Squares\"></a>\n",
    "\n",
    "### Segmented Least Squares\n",
    "\n",
    "The segmented least squares problem can be solved with dynamic programming.\n",
    "First we calculate errors between each pair of points e(i,j) using the formula :\n",
    "\n",
    "$$ e*{ij} : \\sum*{i}^{n} {(y_i \\, – \\, ax_i \\, – \\, b^2)}^2 $$\n",
    "\n",
    "$$ a : \\frac{\\sum*{i}^{n} {x_i\\,y_i} - (\\sum*{i} {x*i})(\\sum*{i=1} {y*i})}{\\sum*{i}^{n} {x*i^2}-(\\sum*{i} {x_i})^2}$$\n",
    "\n",
    "$$ b : \\frac{\\sum*{i} {y_i} - a\\sum*{i} {x_i}}{n} $$\n",
    "\n",
    "Let $OPT_j$ denote the minimum cost for points $p_1, p_2,\\dots, p_j$. Let $e_{ij}$ denote the minimum squared error for points $p_i, p_{i+1},\\dots, p_j$. The crucial observation is that the last point $p_j$ for some subproblem $OPT_j$ belongs to a single segment in the optimal partition, and that segment begins at some earlier point pi. Thus, if we knew $OPT_{i-1}$, we could compute $OPT_j$. This leads to the following recursive formulation:\n",
    "$$ OPT*j = min*{1 \\le i \\le j}(e*{ij} + C + OPT*{i-1}) $$\n",
    "Here $C$ is the penalty for each segement is taken as input <br>\n",
    "$OPT_n$ gives us the minimum penalty for all the $n$ points\n"
   ]
  },
  {
   "attachments": {},
   "cell_type": "markdown",
   "id": "85c0be33",
   "metadata": {},
   "source": [
    "<a name=\"helper-function\"></a>\n",
    "\n",
    "## Helper Functions\n"
   ]
  },
  {
   "attachments": {},
   "cell_type": "markdown",
   "id": "da5f509d",
   "metadata": {},
   "source": [
    "```\n",
    "vector<int> get_path(int start, int end, vector<vector<int>> &res_adj, int del)\n",
    "```\n",
    "\n",
    "Function to get a path with a source vertex, sink vertex using BFS such that every edge on the path has a weight greater than delta.\n",
    "<br>Time complexity is $O(N+M')$, where $N$ is number of vertices and $M'$ is number of edges in the residual graph.\n"
   ]
  },
  {
   "attachments": {},
   "cell_type": "markdown",
   "id": "d83392e5",
   "metadata": {},
   "source": [
    "```\n",
    "void augment(vector<int> &f, vector<int> &path, vector<vector<int>> &res_adj, map<array<int, 2>, int> &edg_to_i)\n",
    "```\n",
    "\n",
    "Function to update the adjacency matrix of the residual graph with the bottleneck of the path obtained. Such that the forward edge weight will be reduced by the bottleneck and the backward edge weight will be increased by the bottleneck.\n",
    "<br>Time complexity is $O(|P|)$, where $P$ is the path and $|P|$ is the length of the path.\n"
   ]
  },
  {
   "attachments": {},
   "cell_type": "markdown",
   "id": "449c6d9d",
   "metadata": {},
   "source": [
    "```\n",
    "void reach_from_source(int u, vector<bool> &vis, vector<vector<int>> &res_adj)\n",
    "```\n",
    "\n",
    "Function to get all the vertices that can be visited from source vertex. This is done by iterating through all the vertices that are not visited and if there is an edge between u and this vertex, recursively call this function to find all the points u can reach from this point.\n",
    "<br>Time complexity is $O(N+M')$, where $N$ is number of vertices and $M'$ is number of edges in the residual graph.\n"
   ]
  },
  {
   "attachments": {},
   "cell_type": "markdown",
   "id": "24bf552c",
   "metadata": {},
   "source": [
    "```\n",
    "void find_segment(int j, vector<vector<int>> &segments, vector<int> &best_seg)\n",
    "```\n",
    "\n",
    "Function to recursively find the best set of segments\n",
    "<br>Time complexity is $O(N)$, where $N$ is number of points.\n"
   ]
  },
  {
   "attachments": {},
   "cell_type": "markdown",
   "id": "217c7eaa",
   "metadata": {},
   "source": [
    "<a name=\"analysis-and-conclusions\"></a>\n",
    "\n",
    "## Analysis and Conclusions\n"
   ]
  },
  {
   "attachments": {},
   "cell_type": "markdown",
   "id": "8697de1a",
   "metadata": {},
   "source": [
    "We have implemented Ford Fulkerson algorithm and used it to solve min-cut problem and matching bipartite problem. We also used Dynamic Programming techniques to solve Segmented Least Squares problem. We have used a visualizer program which allows use to view the points and the best fit segments for the latter. These are some of the results we have gathered by running our code on many datasets obtained from multiple sources. For the sake of brevity, we do not present the results individually for every single dataset.\n",
    "\n",
    "All the codes were implemented on g++ (MinGW.org GCC Build-2) 9.2.0 and run on a PC with a processor 12th Gen Intel(R) Core(TM) i7-12700H with a 2.30 GHz speed.\n",
    "<br>\n"
   ]
  },
  {
   "attachments": {},
   "cell_type": "markdown",
   "id": "16fd5310",
   "metadata": {},
   "source": [
    "<a name=\"acp1\"></a>\n",
    "\n",
    "### Problem Statement 1\n"
   ]
  },
  {
   "attachments": {},
   "cell_type": "markdown",
   "id": "dee95eb3",
   "metadata": {},
   "source": [
    "#### Example 1 Ford Fulkerson: <br>\n",
    "\n",
    "<img src=\"images/q1.png\" align=\"left\" height=\"200\" width=\"300\"/>\n",
    "<img src=\"images/sol1.png\" align=\"right\" height=\"200\" width=\"300\"/>\n",
    "<div align=\"right\">\n",
    " \n",
    "</div>\n",
    "<center> <-Question &emsp; Solution-><br><br>\n",
    "Number of vertices: 4 <br>\n",
    "Number of edges: 3 <br>\n",
    "Maximum flow: 3 <br>\n",
    "Time for running Ford Fulkerson: 0ms <br>\n",
    "\n",
    "</center>\n",
    "<br>\n",
    "<br>\n"
   ]
  },
  {
   "attachments": {},
   "cell_type": "markdown",
   "id": "bffc262e",
   "metadata": {},
   "source": [
    "#### Example 2 Ford Fulkerson: <br>\n",
    "\n",
    "<img src=\"images/q2.png\" align=\"left\" height=\"200\" width=\"300\"/>\n",
    "<img src=\"images/sol2.png\" align=\"right\" height=\"200\" width=\"300\"/>\n",
    "<div align=\"right\">\n",
    " \n",
    "</div>\n",
    "<center> <-Question &emsp; Solution-><br><br>\n",
    "Number of vertices: 4 <br>\n",
    "Number of edges: 5 <br>\n",
    "Maximum flow: 6 <br>\n",
    "Time for running Ford Fulkerson: 0ms <br>\n",
    "\n",
    "</center>\n",
    "<br>\n",
    "<br>\n"
   ]
  },
  {
   "attachments": {},
   "cell_type": "markdown",
   "id": "61a09304",
   "metadata": {},
   "source": [
    "| Vertices | Edges | Avg Dec. time |\n",
    "| -------- | ----- | ------------- |\n",
    "| 4        | 3     | 0 ms          |\n",
    "| 4        | 5     | 0 ms          |\n",
    "| 67       | 154   | 13.549 ms     |\n",
    "| 112      | 312   | 39.904 ms     |\n",
    "| 233      | 478   | 87.476 ms     |\n",
    "| 500      | 998   | 149.904 ms    |\n"
   ]
  },
  {
   "attachments": {},
   "cell_type": "markdown",
   "id": "099e3779",
   "metadata": {},
   "source": [
    "#### Example 1 Bipartite Matching: <br>\n",
    "\n",
    "<img src=\"images/qq1.png\" align=\"left\" height=\"300\" width=\"300\"/>\n",
    "<img src=\"images/sols1.png\" align=\"right\" height=\"300\" width=\"300\"/>\n",
    "<div align=\"right\">\n",
    " \n",
    "</div>\n",
    "<center> <-Question &emsp; Solution-><br><br>\n",
    "Number of vertices: 10 <br>\n",
    "Number of edges: 9 <br>\n",
    "Number of nodes in the left bipartite set (bi_index): 5 <br>\n",
    "Time for running Bipartite Matching: 0ms <br><br>\n",
    "<strong>If edge number is less than bi_index it is <br>\n",
    "part of left bipartite set else it is part of right bipartite set.</strong><br>\n",
    "\n",
    "</center>\n",
    "<br>\n",
    "<br>\n"
   ]
  },
  {
   "attachments": {},
   "cell_type": "markdown",
   "id": "42ee4206",
   "metadata": {},
   "source": [
    "#### Example 2 Bipartite Matching: <br>\n",
    "\n",
    "<img src=\"images/qq2.png\" align=\"left\" height=\"300\" width=\"300\"/>\n",
    "<img src=\"images/sols2.png\" align=\"right\" height=\"300\" width=\"300\"/>\n",
    "<div align=\"right\">\n",
    " \n",
    "</div>\n",
    "<center> <-Question &emsp; Solution-><br><br>\n",
    "Number of vertices: 12 <br>\n",
    "Number of edges: 8 <br>\n",
    "bi_index: 6 <br>\n",
    "Time for running Bipartite Matching: 0ms <br><br>\n",
    "<strong>If edge number is less than bi_index it is <br>\n",
    "part of left bipartite set else it is part of right bipartite set.</strong><br>\n",
    "\n",
    "</center>\n",
    "<br>\n",
    "<br>\n"
   ]
  },
  {
   "attachments": {},
   "cell_type": "markdown",
   "id": "f505518c",
   "metadata": {},
   "source": [
    "| Vertices | Edges | Avg Run time |\n",
    "| -------- | ----- | ------------ |\n",
    "| 10       | 9     | 0 ms         |\n",
    "| 12       | 8     | 0 ms         |\n",
    "| 67       | 39    | 11.7936 ms   |\n",
    "| 112      | 96    | 31.055 ms    |\n",
    "| 264      | 153   | 59.1638 ms   |\n",
    "| 498      | 435   | 97.4668 ms   |\n"
   ]
  },
  {
   "attachments": {},
   "cell_type": "markdown",
   "id": "23cf3139",
   "metadata": {},
   "source": [
    "<br>\n",
    "We can conclude from our observations that as the number of vertices or edges increases the time taken to run Ford Fulkerson or for solving Bipartite Matching increases. From the images we can conclude that the implementation of the algorithms was correct.\n"
   ]
  },
  {
   "attachments": {},
   "cell_type": "markdown",
   "id": "4ff5950b",
   "metadata": {},
   "source": [
    "<a name=\"acp1\"></a>\n",
    "\n",
    "### Problem Statement 2\n"
   ]
  },
  {
   "attachments": {},
   "cell_type": "markdown",
   "id": "44f2e853",
   "metadata": {},
   "source": [
    "#### Example 1 Least Square Segments: <br>\n",
    "\n",
    "<img src=\"images/1_10.png\" align=\"right\" height=\"200\" width=\"300\"/>\n",
    "Number of Points: 10 <br>\n",
    "Number of Segments: 2 <br>\n",
    "Penalty per Segment: 200 <br>\n",
    "Total Cost: 458.8139 <br>\n",
    "Avg Run Time: 0.58ms <br>\n",
    "<br>\n",
    "<br>\n"
   ]
  },
  {
   "attachments": {},
   "cell_type": "markdown",
   "id": "f6738179",
   "metadata": {},
   "source": [
    "#### Example 2 Least Square Segments: <br>\n",
    "\n",
    "<img src=\"images/2_50.png\" align=\"right\" height=\"200\" width=\"300\"/>\n",
    "Number of Points: 50 <br>\n",
    "Number of Segments: 20 <br>\n",
    "Penalty per Segment: 5 <br>\n",
    "Total Cost: 106.7701 <br>\n",
    "Avg Run Time: 2ms <br>\n",
    "<br>\n",
    "<br>\n"
   ]
  },
  {
   "attachments": {},
   "cell_type": "markdown",
   "id": "3e581bd9",
   "metadata": {},
   "source": [
    "#### Example 3 Least Square Segments: <br>\n",
    "\n",
    "<img src=\"images/3_50.png\" align=\"right\" height=\"200\" width=\"300\"/>\n",
    "Number of Points: 50 <br>\n",
    "Number of Segments: 9 <br>\n",
    "Penalty per Segment: 50 <br>\n",
    "Total Cost: 680.7989 <br>\n",
    "Avg Run Time: 2.013 ms <br>\n",
    "<br>\n",
    "<br>\n"
   ]
  },
  {
   "attachments": {},
   "cell_type": "markdown",
   "id": "e73c1693",
   "metadata": {},
   "source": [
    "#### Example 4 Least Square Segments: <br>\n",
    "\n",
    "<img src=\"images/4_200.png\" align=\"right\" height=\"200\" width=\"300\"/>\n",
    "Number of Points: 200 <br>\n",
    "Number of Segments: 70 <br>\n",
    "Penalty per Segment: 10 <br>\n",
    "Total Penalty: 811.9039 <br>\n",
    "Avg Run Time: 76.034 ms <br>\n",
    "<br>\n",
    "<br>\n"
   ]
  },
  {
   "attachments": {},
   "cell_type": "markdown",
   "id": "ecbf659c",
   "metadata": {},
   "source": [
    "#### Example 5 Least Square Segments: <br>\n",
    "\n",
    "<img src=\"images/5_500.png\" align=\"right\" height=\"200\" width=\"300\"/>\n",
    "Number of Points: 500 <br>\n",
    "Number of Segments: 177 <br>\n",
    "Penalty per Segment: 10 <br>\n",
    "Total Cost: 2045.6983 <br>\n",
    "Avg Run Time: 1134.924 ms <br>\n",
    "<br>\n",
    "<br>\n"
   ]
  },
  {
   "attachments": {},
   "cell_type": "markdown",
   "id": "27542853",
   "metadata": {},
   "source": [
    "#### Example 6 Least Square Segments: <br>\n",
    "\n",
    "<img src=\"images/6_1000.png\" align=\"right\" height=\"200\" width=\"300\"/>\n",
    "Number of Points: 1000 <br>\n",
    "Number of Segments: 109 <br>\n",
    "Penalty per Segment: 100 <br>\n",
    "Total Cost: 21490.8284 <br>\n",
    "Avg Run Time: 8860.5 ms <br>\n",
    "<br>\n",
    "<br>\n"
   ]
  },
  {
   "attachments": {},
   "cell_type": "markdown",
   "id": "db0e2c0a",
   "metadata": {},
   "source": [
    "| Points | Segments | Penalty_Segment | Total Cost | Avg Run time |\n",
    "| ------ | -------- | --------------- | ---------- | ------------ |\n",
    "| 10     | 2        | 200             | 458.8139   | 0.58 ms      |\n",
    "| 50     | 20       | 5               | 106.7701   | 2 ms         |\n",
    "| 50     | 9        | 50              | 680.7989   | 2.013 ms     |\n",
    "| 200    | 70       | 10              | 811.9039   | 76.034 ms    |\n",
    "| 500    | 177      | 10              | 2045.6898  | 1134.924 ms  |\n",
    "| 1000   | 109      | 100             | 21490.8284 | 8860.5 ms    |\n"
   ]
  },
  {
   "attachments": {},
   "cell_type": "markdown",
   "id": "a53614b1",
   "metadata": {},
   "source": [
    "<br>\n",
    "We can conclude from our observations that our dynamic programming based algorithm gives us the segments with the least penalty and this algorithm can clearly be applied to find the segments also.\n"
   ]
  }
 ],
 "metadata": {
  "kernelspec": {
   "display_name": "Python 3",
   "language": "python",
   "name": "python3"
  },
  "language_info": {
   "codemirror_mode": {
    "name": "ipython",
    "version": 3
   },
   "file_extension": ".py",
   "mimetype": "text/x-python",
   "name": "python",
   "nbconvert_exporter": "python",
   "pygments_lexer": "ipython3",
   "version": "3.11.0"
  }
 },
 "nbformat": 4,
 "nbformat_minor": 5
}
